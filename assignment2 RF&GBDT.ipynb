{
 "cells": [
  {
   "cell_type": "code",
   "execution_count": 70,
   "metadata": {},
   "outputs": [],
   "source": [
    "import warnings\n",
    "warnings.filterwarnings(\"ignore\")\n",
    "\n",
    "import numpy as np\n",
    "import pandas as pd\n",
    "import talib as ta\n",
    "import matplotlib.pyplot as plt\n",
    "\n",
    "#machine learning\n",
    "from sklearn.model_selection import KFold\n",
    "from sklearn.ensemble import RandomForestClassifier\n",
    "from sklearn import metrics\n",
    "from sklearn.model_selection import cross_val_score\n",
    "from sklearn.metrics import roc_curve, auc\n",
    "from sklearn.model_selection import GridSearchCV\n",
    "from sklearn.model_selection import TimeSeriesSplit\n",
    "from sklearn.ensemble import GradientBoostingClassifier\n",
    "\n",
    "#fetching data\n",
    "from pandas_datareader import data as pdr\n",
    "import yfinance as yf\n",
    "yf.pdr_override()"
   ]
  },
  {
   "cell_type": "markdown",
   "metadata": {},
   "source": [
    "### Data pre-processing"
   ]
  },
  {
   "cell_type": "code",
   "execution_count": 71,
   "metadata": {},
   "outputs": [
    {
     "name": "stdout",
     "output_type": "stream",
     "text": [
      "[*********************100%***********************]  1 of 1 completed\n",
      "               Open     High      Low    Close  Adj Close    Volume      S_10  \\\n",
      "Date                                                                            \n",
      "2009-02-18  3.34615  3.44615  3.24615  3.26154   3.206074  15305222  3.359231   \n",
      "2009-02-19  3.26923  3.40000  3.26923  3.36154   3.304373  10788501  3.391539   \n",
      "2009-02-20  3.37692  3.48462  3.30000  3.46154   3.402673  12639426  3.423078   \n",
      "2009-02-23  3.46154  3.60000  3.42308  3.56154   3.500972  16491625  3.454617   \n",
      "2009-02-24  3.51538  3.59231  3.35385  3.42308   3.364866  15844775  3.468463   \n",
      "\n",
      "                  RSI  Open-Close  Open-Open      MOM        ADX        ROC  \\\n",
      "Date                                                                          \n",
      "2009-02-18  52.996702    -0.07693   -0.23077 -0.17692  49.781485   4.691559   \n",
      "2009-02-19  58.176269     0.00769   -0.07692 -0.19231  48.108908  10.633020   \n",
      "2009-02-20  62.738544     0.01538    0.10769 -0.13077  47.021960  10.024629   \n",
      "2009-02-23  66.766563     0.00000    0.08462 -0.04615  46.564649   9.715813   \n",
      "2009-02-24  57.246073    -0.04616    0.05384  0.00000  45.444362   4.215401   \n",
      "\n",
      "                BETA          OBV  logReturn  \n",
      "Date                                          \n",
      "2009-02-18  1.254532  262729130.0   0.030200  \n",
      "2009-02-19  1.454548  273517631.0   0.029314  \n",
      "2009-02-20  0.919593  286157057.0   0.028479  \n",
      "2009-02-23  1.008896  302648682.0  -0.039652  \n",
      "2009-02-24  0.980590  286803907.0   0.065241  \n",
      "factors: Index(['S_10', 'RSI', 'Open-Close', 'Open-Open', 'MOM', 'ADX', 'ROC', 'BETA',\n",
      "       'OBV'],\n",
      "      dtype='object')\n"
     ]
    }
   ],
   "source": [
    "underlying = '600789.SS'#鲁抗医药600789.SS\n",
    "st = '2009-01-01'\n",
    "et = '2019-01-01'\n",
    "\n",
    "data = pdr.get_data_yahoo(underlying,st,et)\n",
    "data = data.dropna()\n",
    "# data = data .iloc[:,:4]\n",
    "\n",
    "data['S_10'] = data['Close'].rolling(window=10).mean()\n",
    "data['RSI'] = ta.RSI(np.array(data['Close']), timeperiod =10)\n",
    "data['Open-Close'] = data['Open'] -data['Close'].shift(1) #shift(1)向后移动， shift(-1)向前移动  今天-昨天\n",
    "data['Open-Open'] = data['Open'] - data['Open'].shift(1) #今天的open - 昨天的open\n",
    "data['MOM']=ta.MOM(data.Close, timeperiod=5)\n",
    "data['ADX'] = ta.ADX(data.High, data.Low, data.Close, timeperiod=14)\n",
    "data['ROC'] = ta.ROC(data.Close, timeperiod=10)\n",
    "data['BETA'] = ta.BETA(data.High, data.Low, timeperiod=5)\n",
    "data['OBV'] = ta.OBV(data.Close, data.Volume)\n",
    "data['logReturn'] = np.log(data.Close.shift(-1)/data.Close)\n",
    "\n",
    "data =data .dropna()\n",
    "factors =data .columns[-10:-1]\n",
    "weight = data['Volume']\n",
    "\n",
    "print(data.head())\n",
    "print('factors:',factors)"
   ]
  },
  {
   "cell_type": "markdown",
   "metadata": {},
   "source": [
    "### check imbalance issue"
   ]
  },
  {
   "cell_type": "code",
   "execution_count": 72,
   "metadata": {},
   "outputs": [
    {
     "name": "stdout",
     "output_type": "stream",
     "text": [
      "{1: 1209, -1: 1194}\n",
      " the balance ratio of this dataset is :1.012563\n",
      "\n",
      "This dataset does not have imbanlance issue\n"
     ]
    }
   ],
   "source": [
    "from collections import Counter \n",
    "y = np.where(data['logReturn'].shift(-4)>0,1,-1)\n",
    "c = Counter(y)\n",
    "dic = dict(c)\n",
    "print(dic)\n",
    "\n",
    "print(' the balance ratio of this dataset is :%f\\n'%(dic[1]/dic[-1]))\n",
    "\n",
    "if dic[1]/dic[-1]<4 and dic[1]/dic[-1]>0.25 :\n",
    "    print('This dataset does not have imbanlance issue' )\n",
    "else:\n",
    "    print('This dataset has imbanlance issue' )"
   ]
  },
  {
   "cell_type": "markdown",
   "metadata": {},
   "source": [
    "### Random Forest"
   ]
  },
  {
   "cell_type": "code",
   "execution_count": 112,
   "metadata": {},
   "outputs": [],
   "source": [
    "def get_performance(report,matrix,aoc):    \n",
    "    index = {'-1','1','macro avg','weighted avg'}\n",
    "    test_1 = {key:value for key,value in report.items() if key in index}\n",
    "    report2 = pd.DataFrame(test_1)\n",
    "    report3 = pd.DataFrame([report['accuracy'],aoc], index=['accuracy','AUC'])\n",
    "    report4 = pd.DataFrame(matrix,index =['Predicted Positive','Predicted Negative'],columns = ['Actual Positive','Actual Negative'])\n",
    "    print(report4)\n",
    "    print('---------------------------------------------------------')\n",
    "    print(report2)\n",
    "    print(report3)\n",
    "\n",
    "def get_roc_curve(roc_auc):\n",
    "    plt.figure()\n",
    "    lw = 2\n",
    "    plt.plot(fpr, tpr, color='darkorange',\n",
    "             lw=lw, label='ROC curve (area = %0.2f)' % roc_auc)\n",
    "    plt.plot([0, 1], [0, 1], color='navy',lw=lw, linestyle='--')\n",
    "    plt.xlim([0.0, 1.0])\n",
    "    plt.ylim([0.0, 1.0])\n",
    "    plt.legend()\n",
    "    \n",
    "def tune_parameter(model,par,cv,X_train,y_train):\n",
    "    parameters = par\n",
    "    gsearch = GridSearchCV(estimator = model, param_grid = parameters, scoring='roc_auc',cv=cv)\n",
    "    gsearch.fit(X_train,y_train)\n",
    "\n",
    "    means = gsearch.cv_results_['mean_test_score']\n",
    "    params = gsearch.cv_results_['params']\n",
    "\n",
    "#     for means,params in zip(means,params):\n",
    "#         print('%f with %r '%(means,params))\n",
    "    print('the best params is %r with best score is %f'% (gsearch.best_params_, gsearch.best_score_))"
   ]
  },
  {
   "cell_type": "code",
   "execution_count": 113,
   "metadata": {},
   "outputs": [
    {
     "name": "stdout",
     "output_type": "stream",
     "text": [
      "the best params is {'max_depth': 7, 'n_estimators': 150} with best score is 0.464329\n",
      "the best params is {'max_depth': 9, 'n_estimators': 200} with best score is 0.528907\n",
      "the best params is {'max_depth': 5, 'n_estimators': 150} with best score is 0.531950\n"
     ]
    }
   ],
   "source": [
    "X = data[factors]\n",
    "y = np.where(data['logReturn'].shift(-4)>0,1,-1)  #3天后的涨跌\n",
    "\n",
    "split = int(0.7*len(data))\n",
    "X_train,y_train,X_test,y_test = X[:split],y[:split],X[split:-4],y[split:-4]\n",
    "\n",
    "# Tune parameters by cv\n",
    "# normal cv\n",
    "model = RandomForestClassifier(max_features='sqrt')\n",
    "parameters = {'n_estimators':range(100,201,50),'max_depth':range(5,10,2)}\n",
    "tune_parameter(model,parameters,5,X_train,y_train)\n",
    "\n",
    "# # TimeSeriesSplit cv\n",
    "tscv = TimeSeriesSplit(n_splits=5)\n",
    "tune_parameter(model,parameters,tscv,X_train,y_train)\n",
    "\n",
    "# TimeSeriesSplit cv with a fixed training size \n",
    "n_splits = 5\n",
    "tscv_fix = TimeSeriesSplit(n_splits=n_splits,max_train_size= len(X_train) // (n_splits + 1) + len(X_train) % (n_splits + 1) )\n",
    "tune_parameter(model,parameters,tscv_fix,X_train,y_train)"
   ]
  },
  {
   "cell_type": "code",
   "execution_count": 87,
   "metadata": {},
   "outputs": [
    {
     "name": "stdout",
     "output_type": "stream",
     "text": [
      "                    Actual Positive  Actual Negative\n",
      "Predicted Positive              150              214\n",
      "Predicted Negative              125              228\n",
      "---------------------------------------------------------\n",
      "                   -1           1   macro avg  weighted avg\n",
      "precision    0.545455    0.515837    0.530646      0.530873\n",
      "recall       0.412088    0.645892    0.528990      0.527197\n",
      "f1-score     0.469484    0.573585    0.521534      0.520736\n",
      "support    364.000000  353.000000  717.000000    717.000000\n",
      "                 0\n",
      "accuracy  0.527197\n",
      "AUC       0.541364\n",
      "---------------------------------------------------------\n",
      "Feature importance\n",
      "OBV           0.125238\n",
      "BETA          0.119208\n",
      "RSI           0.117831\n",
      "Open-Close    0.116924\n",
      "ADX           0.114867\n",
      "Open-Open     0.109828\n",
      "MOM           0.106028\n",
      "ROC           0.102372\n",
      "S_10          0.087705\n",
      "dtype: float64\n"
     ]
    },
    {
     "data": {
      "image/png": "[encoded data removed]",
      "text/plain": [
       "<Figure size 432x288 with 1 Axes>"
      ]
     },
     "metadata": {
      "needs_background": "light"
     },
     "output_type": "display_data"
    }
   ],
   "source": [
    "model = RandomForestClassifier(n_estimators=200, max_features='sqrt',max_depth=5)\n",
    "model.fit(X_train,y_train)\n",
    "rf_predicted = model.predict(X_test)\n",
    "\n",
    "#evaluate\n",
    "con_mat_rf = metrics.confusion_matrix(y_test, rf_predicted)#精确率Precision=a/(a+c)=TP/(TP+FP),召回率recall=a/(a+b)=TP/(TP+FN),\n",
    "                                                        #准确率accuracy=(a+d)/(a+b+c+d)=(TP+FN+FP+TN)    \n",
    "\n",
    "mat_df_rf = metrics.classification_report(y_test, rf_predicted,output_dict=True)\n",
    "\n",
    "#calculate roc_auc\n",
    "fpr = dict()\n",
    "tpr = dict()\n",
    "roc_auc = dict()\n",
    "rf_scores = model.predict_proba(X_test)[:, 1]\n",
    "fpr, tpr, thresholds = roc_curve(y_test, rf_scores)\n",
    "roc_auc_rf = auc(fpr, tpr)\n",
    "\n",
    "#print result\n",
    "get_performance(mat_df_rf,con_mat_rf,roc_auc_rf)\n",
    "get_roc_curve(roc_auc_rf)\n",
    "\n",
    "#feature importance\n",
    "print('---------------------------------------------------------')\n",
    "print('Feature importance')\n",
    "importance = pd.Series(model.feature_importances_,index= factors)\n",
    "importance = importance.sort_values(ascending = False)\n",
    "print(importance)"
   ]
  },
  {
   "cell_type": "code",
   "execution_count": 77,
   "metadata": {},
   "outputs": [
    {
     "name": "stdout",
     "output_type": "stream",
     "text": [
      "                    Actual Positive  Actual Negative\n",
      "Predicted Positive              121              243\n",
      "Predicted Negative              106              247\n",
      "---------------------------------------------------------\n",
      "                   -1           1   macro avg  weighted avg\n",
      "precision    0.533040    0.504082    0.518561      0.518783\n",
      "recall       0.332418    0.699717    0.516067      0.513250\n",
      "f1-score     0.409475    0.586002    0.497739      0.496385\n",
      "support    364.000000  353.000000  717.000000    717.000000\n",
      "                 0\n",
      "accuracy  0.513250\n",
      "AUC       0.530796\n"
     ]
    },
    {
     "data": {
      "image/png": "[encoded data removed]",
      "text/plain": [
       "<Figure size 432x288 with 1 Axes>"
      ]
     },
     "metadata": {
      "needs_background": "light"
     },
     "output_type": "display_data"
    }
   ],
   "source": [
    "#using volume as sample_weight\n",
    "weight1 = weight[:split]\n",
    "model.fit(X_train,y_train,sample_weight=weight1)\n",
    "rf_predicted = model.predict(X_test)\n",
    "\n",
    "#evaluate\n",
    "con_mat = metrics.confusion_matrix(y_test, rf_predicted)#精确率Precision=a/(a+c)=TP/(TP+FP),召回率recall=a/(a+b)=TP/(TP+FN),\n",
    "                                                        #准确率accuracy=(a+d)/(a+b+c+d)=(TP+FN+FP+TN)    \n",
    "\n",
    "mat_df = metrics.classification_report(y_test, rf_predicted,output_dict=True)\n",
    "\n",
    "#calculate roc_auc\n",
    "fpr = dict()\n",
    "tpr = dict()\n",
    "roc_auc = dict()\n",
    "rf_scores = model.predict_proba(X_test)[:, 1]\n",
    "fpr, tpr, thresholds = roc_curve(y_test, rf_scores)\n",
    "roc_auc = auc(fpr, tpr)\n",
    "\n",
    "#print result\n",
    "get_performance(mat_df,con_mat,roc_auc)\n",
    "get_roc_curve(roc_auc)"
   ]
  },
  {
   "cell_type": "markdown",
   "metadata": {},
   "source": [
    "### GBDT"
   ]
  },
  {
   "cell_type": "code",
   "execution_count": 114,
   "metadata": {},
   "outputs": [
    {
     "name": "stdout",
     "output_type": "stream",
     "text": [
      "the best params is {'max_depth': 9, 'n_estimators': 100} with best score is 0.480220\n",
      "the best params is {'max_depth': 9, 'n_estimators': 100} with best score is 0.536379\n",
      "the best params is {'max_depth': 9, 'n_estimators': 200} with best score is 0.540007\n"
     ]
    }
   ],
   "source": [
    "# normal cv\n",
    "gbc =  GradientBoostingClassifier(max_features='sqrt')\n",
    "parameters = {'n_estimators':range(100,201,50),'max_depth':range(5,10,2)}\n",
    "tune_parameter(gbc,parameters,5,X_train,y_train)\n",
    "\n",
    "# TimeSeriesSplit cv\n",
    "gbc =  GradientBoostingClassifier(max_features='sqrt')\n",
    "tscv = TimeSeriesSplit(n_splits=5)\n",
    "parameters = {'n_estimators':range(100,201,50),'max_depth':range(5,10,2)}\n",
    "tune_parameter(gbc,parameters,tscv,X_train,y_train)\n",
    "\n",
    "# TimeSeriesSplit cv with a fixed training size \n",
    "gbc =  GradientBoostingClassifier(max_features='sqrt')\n",
    "n_splits = 5\n",
    "tscv_fix = TimeSeriesSplit(n_splits=n_splits,max_train_size= len(X_train) // (n_splits + 1) + len(X_train) % (n_splits + 1) )\n",
    "parameters = {'n_estimators':range(100,201,50),'max_depth':range(5,10,2)}\n",
    "tune_parameter(gbc,parameters,tscv_fix,X_train,y_train)"
   ]
  },
  {
   "cell_type": "code",
   "execution_count": 116,
   "metadata": {},
   "outputs": [
    {
     "name": "stdout",
     "output_type": "stream",
     "text": [
      "                    Actual Positive  Actual Negative\n",
      "Predicted Positive              139              225\n",
      "Predicted Negative              144              209\n",
      "---------------------------------------------------------\n",
      "                   -1           1   macro avg  weighted avg\n",
      "precision    0.491166    0.481567    0.486366      0.486440\n",
      "recall       0.381868    0.592068    0.486968      0.485356\n",
      "f1-score     0.429675    0.531131    0.480403      0.479625\n",
      "support    364.000000  353.000000  717.000000    717.000000\n",
      "                 0\n",
      "accuracy  0.485356\n",
      "AUC       0.495509\n",
      "---------------------------------------------------------\n",
      "Feature importance:\n",
      "ADX           0.124039\n",
      "ROC           0.122760\n",
      "RSI           0.119620\n",
      "MOM           0.115542\n",
      "BETA          0.113147\n",
      "OBV           0.110723\n",
      "Open-Open     0.102958\n",
      "S_10          0.101055\n",
      "Open-Close    0.090158\n",
      "dtype: float64\n"
     ]
    },
    {
     "data": {
      "image/png": "[encoded data removed]",
      "text/plain": [
       "<Figure size 432x288 with 1 Axes>"
      ]
     },
     "metadata": {
      "needs_background": "light"
     },
     "output_type": "display_data"
    }
   ],
   "source": [
    "gbc = GradientBoostingClassifier(n_estimators=200,max_depth=9,max_features='sqrt')\n",
    "gbc.fit(X_train,y_train)\n",
    "gbc_predicted = gbc.predict(X_test)\n",
    "\n",
    "#evaluate\n",
    "con_mat_gbc = metrics.confusion_matrix(y_test, gbc_predicted)   \n",
    "mat_df_gbc = metrics.classification_report(y_test, gbc_predicted,output_dict=True)\n",
    "\n",
    "#calculate roc_auc\n",
    "fpr2 = dict()\n",
    "tpr2 = dict()\n",
    "roc_auc2 = dict()\n",
    "gbc_scores = gbc.predict_proba(X_test)[:, 1]\n",
    "fpr2, tpr2, thresholds2 = roc_curve(y_test, gbc_scores)\n",
    "roc_auc_gbc = auc(fpr2, tpr2)\n",
    "\n",
    "#print result\n",
    "get_performance(mat_df_gbc,con_mat_gbc,roc_auc_gbc)\n",
    "get_roc_curve(roc_auc_gbc)\n",
    "\n",
    "print('---------------------------------------------------------')\n",
    "print('Feature importance:')\n",
    "#feature importance\n",
    "importance2 = pd.Series(gbc.feature_importances_,index= factors)\n",
    "importance2 = importance2.sort_values(ascending = False)\n",
    "print(importance2)"
   ]
  },
  {
   "cell_type": "code",
   "execution_count": 117,
   "metadata": {},
   "outputs": [
    {
     "name": "stdout",
     "output_type": "stream",
     "text": [
      "                    Actual Positive  Actual Negative\n",
      "Predicted Positive              141              223\n",
      "Predicted Negative              143              210\n",
      "---------------------------------------------------------\n",
      "                   -1           1   macro avg  weighted avg\n",
      "precision    0.496479    0.484988    0.490734      0.490822\n",
      "recall       0.387363    0.594901    0.491132      0.489540\n",
      "f1-score     0.435185    0.534351    0.484768      0.484007\n",
      "support    364.000000  353.000000  717.000000    717.000000\n",
      "                 0\n",
      "accuracy  0.489540\n",
      "AUC       0.485275\n"
     ]
    },
    {
     "data": {
      "image/png": "[encoded data removed]",
      "text/plain": [
       "<Figure size 432x288 with 1 Axes>"
      ]
     },
     "metadata": {
      "needs_background": "light"
     },
     "output_type": "display_data"
    }
   ],
   "source": [
    "#using volume as sample_weight\n",
    "weight1 = weight[:split]\n",
    "gbc.fit(X_train,y_train,sample_weight=weight1)\n",
    "gbc_predicted = gbc.predict(X_test)\n",
    "\n",
    "#evaluate\n",
    "con_mat = metrics.confusion_matrix(y_test, gbc_predicted)#精确率Precision=a/(a+c)=TP/(TP+FP),召回率recall=a/(a+b)=TP/(TP+FN),\n",
    "                                                        #准确率accuracy=(a+d)/(a+b+c+d)=(TP+FN+FP+TN)    \n",
    "\n",
    "mat_df = metrics.classification_report(y_test, gbc_predicted,output_dict=True)\n",
    "\n",
    "#calculate roc_auc\n",
    "fpr = dict()\n",
    "tpr = dict()\n",
    "roc_auc = dict()\n",
    "gbc_scores = gbc.predict_proba(X_test)[:, 1]\n",
    "fpr, tpr, thresholds = roc_curve(y_test, gbc_scores)\n",
    "roc_auc = auc(fpr, tpr)\n",
    "\n",
    "#print result\n",
    "get_performance(mat_df,con_mat,roc_auc)\n",
    "get_roc_curve(roc_auc)"
   ]
  },
  {
   "cell_type": "markdown",
   "metadata": {},
   "source": [
    "### Comparison"
   ]
  },
  {
   "cell_type": "code",
   "execution_count": 118,
   "metadata": {},
   "outputs": [
    {
     "name": "stdout",
     "output_type": "stream",
     "text": [
      "     accuracy precision    recall  f1-score       AUC\n",
      "rf   0.527197  0.530873  0.527197  0.520736  0.541364\n",
      "gbc  0.485356   0.48644  0.485356  0.479625  0.495509\n",
      "--------------------------------------------------\n",
      "rf     0.529473\n",
      "gbc    0.486457\n",
      "dtype: float64\n"
     ]
    }
   ],
   "source": [
    "def compare(dic,matrix,aoc):    \n",
    "    index = {'-1','1','macro avg','weighted avg'}\n",
    "    test_1 = {key:value for key,value in dic.items() if key in index}\n",
    "    report2 = pd.DataFrame(test_1)\n",
    "    r = [dic['accuracy'],report2.iat[0,3],report2.iat[1,3],report2.iat[2,3],aoc]\n",
    "    return r\n",
    "\n",
    "result_rf = compare(mat_df_rf,con_mat_rf,roc_auc_rf)\n",
    "result_gbc = compare(mat_df_gbc,con_mat_gbc,roc_auc_gbc)\n",
    "\n",
    "result = pd.DataFrame(columns=['accuracy','precision','recall','f1-score','AUC'],index=['rf','gbc'])\n",
    "for i in range(len(result_rf)):\n",
    "    result.iat[0,i]=result_rf[i]\n",
    "    result.iat[1,i]=result_gbc[i]\n",
    "\n",
    "print(result)\n",
    "print('--------------------------------------------------')\n",
    "print(result.mean(axis = 1))"
   ]
  },
  {
   "cell_type": "markdown",
   "metadata": {},
   "source": [
    "### Conclusion\n",
    "Random Forest performs the best for my dataset (daily, 600789.SS, from 20090101 to 20190101) with accuracy=0.527197, precision = 0.530873, recall = 0.527197, f1-score = 0.520736, AUC = 0.541364."
   ]
  },
  {
   "cell_type": "code",
   "execution_count": null,
   "metadata": {},
   "outputs": [],
   "source": []
  }
 ],
 "metadata": {
  "kernelspec": {
   "display_name": "Python 3",
   "language": "python",
   "name": "python3"
  },
  "language_info": {
   "codemirror_mode": {
    "name": "ipython",
    "version": 3
   },
   "file_extension": ".py",
   "mimetype": "text/x-python",
   "name": "python",
   "nbconvert_exporter": "python",
   "pygments_lexer": "ipython3",
   "version": "3.7.6"
  }
 },
 "nbformat": 4,
 "nbformat_minor": 4
}
