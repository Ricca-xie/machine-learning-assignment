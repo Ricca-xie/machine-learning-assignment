{
 "cells": [
  {
   "cell_type": "markdown",
   "metadata": {},
   "source": [
    "### Conclusion"
   ]
  },
  {
   "cell_type": "markdown",
   "metadata": {},
   "source": [
    "##### LSTM\n",
    "\n",
    "the best parameters are: using {'optimizer': 'Adamax'},{learn_rate': 0.001},{'init_mode': 'glorot_uniform'}                                           \n",
    "win_rate: 0.497    \n",
    "\n",
    "        correlation:  [ 1.        , -0.07190612]\n",
    "                  [-0.07190612,  1.        ]"
   ]
  },
  {
   "cell_type": "markdown",
   "metadata": {},
   "source": [
    "##### HMM\n",
    "valid auc: 0.5386309857400834\n",
    "\n",
    "                    1      macro avg    weighted avg  \n",
    "                    \n",
    "       precision     0.603645    0.551822      0.560979                                \n",
    "       recall       0.874587    0.526916      0.588350                               \n",
    "       f1-score      0.714286    0.489087      0.528880                              \n",
    "       support       303.000    515.000000    515.000000                                \n",
    "                                                      \n",
    "       accuracy    0.588350                          \n",
    "       AUC       0.538631                              "
   ]
  },
  {
   "cell_type": "markdown",
   "metadata": {},
   "source": [
    "##### CNN \n",
    "the best parameters are: using {'batch_size': 1000, 'epochs': 5}, using{'optimizer': 'RMSprop'},using {'init_mode': 'uniform'}\n",
    "\n",
    "                     macro avg     weighted avg\n",
    "           precision     0.508655      0.602155\n",
    "           recall       0.509520      0.579412\n",
    "           f1-score      0.507396      0.589383\n",
    "           support       680.0000     680.0000\n",
    "                 \n",
    "           accuracy    0.579412\n",
    "           AUC       0.563140"
   ]
  },
  {
   "cell_type": "markdown",
   "metadata": {},
   "source": [
    "Therefore, the best model could be the CNN model,for the accuracy and the AUC"
   ]
  },
  {
   "cell_type": "code",
   "execution_count": null,
   "metadata": {},
   "outputs": [],
   "source": []
  }
 ],
 "metadata": {
  "kernelspec": {
   "display_name": "Python 3",
   "language": "python",
   "name": "python3"
  },
  "language_info": {
   "codemirror_mode": {
    "name": "ipython",
    "version": 3
   },
   "file_extension": ".py",
   "mimetype": "text/x-python",
   "name": "python",
   "nbconvert_exporter": "python",
   "pygments_lexer": "ipython3",
   "version": "3.7.6"
  }
 },
 "nbformat": 4,
 "nbformat_minor": 4
}
